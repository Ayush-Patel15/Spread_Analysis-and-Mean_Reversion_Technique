{
 "cells": [
  {
   "cell_type": "markdown",
   "metadata": {},
   "source": [
    "## Spread Analysis of Co-integrated pairs for Mean Reversion Trading\n",
    "\n",
    "- Author: Ayush Patel\n",
    "- Github: https://github.com/Ayush-Patel15 \n",
    "- LinkedIn: https://www.linkedin.com/in/ayush-15-patel/"
   ]
  },
  {
   "cell_type": "markdown",
   "metadata": {},
   "source": [
    "<hr>"
   ]
  },
  {
   "cell_type": "markdown",
   "metadata": {},
   "source": [
    "In financial markets, prices often deviate from their typical patterns due to market noise, sentiment, or external factors. But what if we could identify relationships between assets that remain stable over time despite these short-term fluctuations? This post continues the journey into identifying such relationships using statistical methods and explores how these insights can be turned into actionable trading strategies.\n",
    "\n",
    "### Analysis of Cointegrated Pairs\n",
    "\n",
    "To learn about cointegration, and related terms, you can read my previous post on cointegration.\n",
    "\n",
    "The goal of this analysis is to build upon the results of the cointegration test conducted earlier by exploring and modeling the relationship between cointegrated stock pairs. We aim to examine their spread (any linear relationship between them), assess stationarity, and use statistical tools to generate actionable insights for pairs trading strategies."
   ]
  },
  {
   "cell_type": "markdown",
   "metadata": {},
   "source": [
    "<hr>"
   ]
  },
  {
   "cell_type": "markdown",
   "metadata": {},
   "source": [
    "### Pairs Trading and the Mean Reversion Strategy\n",
    "\n",
    "Pairs trading is a market-neutral strategy that profits from temporary deviations between two related assets. When two stocks exhibit cointegration, their prices move together in the long term, even if they temporarily deviate from their typical relationship. The key idea is to identify these deviations, assuming the spread between them will revert to its historical mean. Here’s how it works:\n",
    "\n",
    "- Identifying a Pair: Two cointegrated stocks, let’s call them Stock A and Stock B, have a stable spread between their prices over time.\n",
    "- Monitoring the Spread: If the spread widens significantly (e.g., Z-score > +2SD), Stock A may be considered overvalued, and Stock B undervalued. Spread is just any linear relationship between the Stock A and Stock B.\n",
    "- Trading Signals: Go Long (Buy) on the undervalued stock and Go Short (Sell) on the overvalued stock when the spread deviates significantly. Close the trade when the spread reverts to the mean, realizing a profit.\n",
    "- Risk Management: By pairing long and short positions, pairs trading minimizes exposure to broader market trends and focuses on the relationship between the two assets."
   ]
  },
  {
   "cell_type": "markdown",
   "metadata": {},
   "source": [
    "<hr>"
   ]
  },
  {
   "cell_type": "markdown",
   "metadata": {},
   "source": [
    "### Importance in Finance\n",
    "\n",
    "- Market Neutral Strategy: Pairs trading strategies are market-neutral, meaning they are unaffected by overall market movements.\n",
    "- Identifying Arbitrage Opportunities: When the spread deviates significantly from its mean, it can signal opportunities for profitable trades.\n",
    "- Risk Management: Stationary spreads allow for clearly defined entry and exit points, helping manage trade risks."
   ]
  },
  {
   "cell_type": "markdown",
   "metadata": {},
   "source": [
    "<hr>"
   ]
  },
  {
   "cell_type": "markdown",
   "metadata": {},
   "source": [
    "### Python Implementation\n",
    "\n",
    "Let's dive directly to the main topic, and learn the steps involved in research of finding Mean Reverting pairs. For this demonstration, I am using the output of one of my previous post, where I have saved a dataframe with the pairs and their verdict of `cointegrated` or `not-cointegrated`. I will filter out the pairs that are cointegrated and follow the below steps.\n",
    "\n",
    "`STEP-1`: Use OLS (Ordinary Least Squares) Regression to find the relationship between the pairs.\n",
    "\n",
    "- Apply an OLS regression to fit a linear model between the two stocks in each cointegrated pair.\n",
    "- The regression equation models one stock as a function of the other, helping compute the spread between them.\n",
    "\n",
    "`STEP-2`: Create the Spread using the Beta/Slope coeficient of the model.\n",
    "\n",
    "- In pairs trading, this beta is called as the hedge ratio.\n",
    "- Compute the spread as the linear equation: stock_y - (hedge_ratio * stock_x), where x and y are the dependent and independent variables.\n",
    "- The spread represents the linear combination of their expected relationship.\n",
    "\n",
    "`STEP-3`: Apply the stationarity test on the created spread series.\n",
    "\n",
    "- Use the Augmented Dickey-Fuller (ADF) test to verify if the spread is stationary.\n",
    "- A stationary spread is crucial for pairs trading, as it suggests the spread will revert to its historical mean over time.\n",
    "\n",
    "`STEP-4`: If the spread is stationary, generate the Z-Score Series\n",
    "\n",
    "- Normalize the spread by calculating its Z-score to measure how far it deviates from the mean.\n",
    "- This step helps define boundaries for typical versus extreme deviations.\n",
    "$$ Z(t) = (Spread(t) - \\mu_s) / \\sigma_s $$\n",
    "\n",
    "Where $\\mu_s$ is the mean and $\\sigma_s$ is the standard deviation of the spread.\n",
    "\n",
    "`STEP-5`: Plot the Z-Score Series, and save the output.\n",
    "\n",
    "- Visualize the Z-score series with statistical boundaries at the mean, +2SD, and -2SD.\n",
    "- Highlight key points where the spread crosses these thresholds to identify potential trading signals.\n",
    "\n",
    "This plot have the pairs to analyze and decide, whether to trade or apply the mean reversion pairs trading logic or not."
   ]
  },
  {
   "cell_type": "code",
   "execution_count": 9,
   "metadata": {},
   "outputs": [],
   "source": [
    "## Necessary Import Statements\n",
    "from statsmodels.tsa.stattools import adfuller\n",
    "import matplotlib.pyplot as plt\n",
    "import statsmodels.api as sm\n",
    "import pandas as pd\n",
    "import numpy as np\n",
    "import os"
   ]
  },
  {
   "cell_type": "code",
   "execution_count": 10,
   "metadata": {},
   "outputs": [],
   "source": [
    "## FOLDER-PATHS\n",
    "DATA_FOLDERPATH = \"E:\\\\Market-Work\\\\All-Data\\\\Daily_Data-Stocks_Indices\\\\\"\n",
    "VERDICT_FILEPATH = \"E:\\\\Market-Work\\\\My-Work\\\\Cointegration_Test\\\\Cointegration-Verdict.csv\"\n",
    "ZSCORE_FOLDERPATH = \"E:\\\\Market-Work\\\\My-Work\\\\Spread_Analysis-and-Mean_Reversion_Technique\\\\Mean_Reverting_Pairs\"\n",
    "\n",
    "## Reading of the dataframe, saved previously\n",
    "verdict_df = pd.read_csv(VERDICT_FILEPATH, index_col=0)"
   ]
  },
  {
   "cell_type": "code",
   "execution_count": 11,
   "metadata": {},
   "outputs": [],
   "source": [
    "## Function to get the pair names, that are cointegrated, do remove the duplicates: apply sorting and then append to the set\n",
    "def get_cointegrated_pairs(verdict_df):\n",
    "\tcointegrated_sets = set()\n",
    "\tfor stock_1 in verdict_df.columns:\n",
    "\t\tcointegrated = verdict_df[(verdict_df[stock_1]==\"cointegrated\")][stock_1]\n",
    "\t\tfor stock_2 in cointegrated.index:\t\t\t\t\n",
    "\t\t\tpair_list = [stock_1, stock_2]\n",
    "\t\t\tpair_list.sort()\n",
    "\t\t\tcointegrated_sets.add(tuple(pair_list))\n",
    "\tcointegrated_pair = list(cointegrated_sets)\n",
    "\treturn cointegrated_pair"
   ]
  },
  {
   "cell_type": "code",
   "execution_count": 12,
   "metadata": {},
   "outputs": [],
   "source": [
    "## Function to take a cointegrated pair, create a spread and then check for stationarity in the spread\n",
    "def save_zscore_plots(stock_pair, DATA_FOLDERPATH, ZSCORE_FOLDERPATH):\n",
    "\tstock_1, stock_2 = stock_pair\n",
    "\tstockname_1, stockname_2 = stock_1.split(\".csv\")[0], stock_2.split(\".csv\")[0]\n",
    "\t# print(\"==> Processing:\", stock_1, stock_2)\n",
    "\tstock_filepath_1 = os.path.join(DATA_FOLDERPATH, stock_1)\n",
    "\tstock_filepath_2 = os.path.join(DATA_FOLDERPATH, stock_2)\n",
    "\tstock_df_1 = pd.read_csv(stock_filepath_1, index_col=0, usecols=[\"Date\",\"Close\"])\n",
    "\tstock_df_1 = stock_df_1.loc[\"2021\":]\n",
    "\tstock_df_2 = pd.read_csv(stock_filepath_2, index_col=0, usecols=[\"Date\",\"Close\"])\n",
    "\tstock_df_2 = stock_df_2.loc[\"2021\":]\n",
    "\t## Fit the data with OLS method\n",
    "\ty_series = np.array(stock_df_1[\"Close\"])\n",
    "\tx_series = np.array(stock_df_2[\"Close\"])\n",
    "\tmodel = sm.OLS(y_series, x_series)\n",
    "\tresult = model.fit()\n",
    "\thedge_ratio = result.params[0]\n",
    "\t## Build the equation for spread, and check for stationarity of that spread\n",
    "\tspread = y_series - (hedge_ratio * x_series)\n",
    "\tspread_pvalue = adfuller(spread)[1]\n",
    "\t## If the spread is stationary, plot and save the Z-Score of the spread series\n",
    "\tif (spread_pvalue < 0.05):\n",
    "\t\tprint(f\"{stockname_1}-{stockname_2} is stationary series.\")\n",
    "\t\tz_spread = (spread - np.mean(spread)) / np.std(spread)\n",
    "\t\tzscore_mean, zscore_std = np.mean(z_spread), np.std(z_spread)\n",
    "\t\tplt.figure(figsize=(12, 10))\n",
    "\t\tplt.plot(z_spread, color=\"black\", label=\"Z-score\")\n",
    "\t\tplt.title(f\"{stockname_1}-{stockname_2}, Hedge:{hedge_ratio}, p-value:{spread_pvalue}\")\n",
    "\t\tplt.axhline(y=zscore_mean, color=\"blue\", linestyle=\"dashed\", label=\"Mean\", linewidth=2)\n",
    "\t\tplt.axhline(y=zscore_mean + (2 * zscore_std), color=\"red\", linestyle=\"dotted\", label=\"+2 SD\", linewidth=2)\n",
    "\t\tplt.axhline(y=zscore_mean - (2 * zscore_std), color=\"green\", linestyle=\"dotted\", label=\"-2 SD\", linewidth=2)\n",
    "\t\tplt.legend()\n",
    "\t\tplt.tight_layout()\n",
    "\t\tsaving_path = os.path.join(ZSCORE_FOLDERPATH, f\"{stockname_1}-{stockname_2}.png\")\n",
    "\t\tplt.savefig(saving_path)\n",
    "\t\tplt.close()"
   ]
  },
  {
   "cell_type": "code",
   "execution_count": 13,
   "metadata": {},
   "outputs": [],
   "source": [
    "## Take out all the pairs from the dataframe\n",
    "cointegrated_pair = get_cointegrated_pairs(verdict_df)\n",
    "cointegrated_pair.sort()"
   ]
  },
  {
   "cell_type": "code",
   "execution_count": 14,
   "metadata": {},
   "outputs": [
    {
     "name": "stdout",
     "output_type": "stream",
     "text": [
      "ADANIPORTS-CIPLA is stationary series.\n",
      "ADANIPORTS-HEROMOTOCO is stationary series.\n",
      "ADANIPORTS-ONGC is stationary series.\n",
      "APOLLOHOSP-CIPLA is stationary series.\n",
      "APOLLOHOSP-DRREDDY is stationary series.\n",
      "APOLLOHOSP-GRASIM is stationary series.\n",
      "APOLLOHOSP-HCLTECH is stationary series.\n",
      "APOLLOHOSP-ICICIBANK is stationary series.\n",
      "APOLLOHOSP-NIFTY50 is stationary series.\n",
      "APOLLOHOSP-ULTRACEMCO is stationary series.\n",
      "AXISBANK-BRITANNIA is stationary series.\n",
      "AXISBANK-CIPLA is stationary series.\n",
      "AXISBANK-DRREDDY is stationary series.\n",
      "AXISBANK-MARUTI is stationary series.\n",
      "BAJAJFINSV-BAJFINANCE is stationary series.\n",
      "BANKNIFTY-BRITANNIA is stationary series.\n",
      "BANKNIFTY-DRREDDY is stationary series.\n",
      "BHARTIARTL-SUNPHARMA is stationary series.\n",
      "CIPLA-EICHERMOT is stationary series.\n",
      "CIPLA-GRASIM is stationary series.\n",
      "CIPLA-ICICIBANK is stationary series.\n",
      "CIPLA-SBIN is stationary series.\n",
      "COALINDIA-NTPC is stationary series.\n",
      "DRREDDY-ULTRACEMCO is stationary series.\n",
      "EICHERMOT-ICICIBANK is stationary series.\n",
      "EICHERMOT-SBIN is stationary series.\n",
      "GRASIM-NIFTY50 is stationary series.\n",
      "GRASIM-SBIN is stationary series.\n",
      "HCLTECH-ULTRACEMCO is stationary series.\n",
      "HINDALCO-TCS is stationary series.\n",
      "JSWSTEEL-MARUTI is stationary series.\n",
      "JSWSTEEL-NESTLEIND is stationary series.\n",
      "JSWSTEEL-NIFTY50 is stationary series.\n",
      "MARUTI-SBIN is stationary series.\n",
      "ONGC-POWERGRID is stationary series.\n",
      "RELIANCE-SBILIFE is stationary series.\n",
      "TATASTEEL-TCS is stationary series.\n"
     ]
    }
   ],
   "source": [
    "## Save the plots, using the zscore function\n",
    "for stock_pair in cointegrated_pair:\n",
    "\tsave_zscore_plots(stock_pair, DATA_FOLDERPATH, ZSCORE_FOLDERPATH)"
   ]
  },
  {
   "cell_type": "markdown",
   "metadata": {},
   "source": [
    "<hr>"
   ]
  },
  {
   "cell_type": "markdown",
   "metadata": {},
   "source": [
    "### Some Z-Score plots for reference\n",
    "\n",
    "All the plots are present at my github, in the folder Mean_Reverting_Pairs.\n",
    "\n",
    "<img src=\"Mean_Reverting_Pairs/AXISBANK-BRITANNIA.png\" height=1000, width=1000>\n",
    "<img src=\"Mean_Reverting_Pairs/BAJAJFINSV-BAJFINANCE.png\" height=500, width=500>\n",
    "<img src=\"Mean_Reverting_Pairs/ONGC-POWERGRID.png\" height=500, width=500>"
   ]
  },
  {
   "cell_type": "markdown",
   "metadata": {},
   "source": [
    "<hr>"
   ]
  },
  {
   "cell_type": "markdown",
   "metadata": {},
   "source": [
    "### Limitations of Mean Reversion Pairs Trading\n",
    "\n",
    "- Assumption of Stationarity: The success of pairs trading hinges on the assumption that the spread between cointegrated pairs is stationary and will revert to its mean over time. However, market conditions can change, causing previously stationary relationships to break down.\n",
    "\n",
    "- Selection Bias: Choosing the right pairs is critical. Poor pair selection can lead to false signals and suboptimal trading outcomes. The process often involves extensive data analysis and rigorous testing to ensure robust results.\n",
    "\n",
    "- Market Regimes and Structural Shifts: Unexpected macroeconomic events or structural changes in industries can permanently shift relationships between pairs, rendering historical patterns invalid.\n",
    "\n",
    "- Execution Risk: Delays in trade execution can result in missed opportunities or increased losses. High-frequency market movements may reduce the efficiency of pairs trading strategies.\n",
    "\n",
    "- Correlation vs. Cointegration: Pairs trading requires cointegration, not just correlation. Two highly correlated stocks may not maintain a stable spread, leading to potential strategy failure if cointegration is not carefully verified.\n",
    "\n",
    "- Transaction Costs and Slippage: Frequent trading to capture small deviations can result in significant transaction costs and slippage, eroding potential profits."
   ]
  },
  {
   "cell_type": "markdown",
   "metadata": {},
   "source": [
    "<hr>"
   ]
  },
  {
   "cell_type": "markdown",
   "metadata": {},
   "source": [
    "### Recommendation for Better Results\n",
    "\n",
    "To achieve more reliable and optimal outcomes, consider applying this technique to ETFs, related commodities, or sector-wise stock constituents, as these groups often share common factors that influence their movements, increasing the likelihood of stable relationships. Please note that this document focuses primarily on explaining the technique and steps involved, therefore I have used the data of all Nifty50 stocks that I had from the past cointegration test."
   ]
  },
  {
   "cell_type": "markdown",
   "metadata": {},
   "source": [
    "<hr>"
   ]
  },
  {
   "cell_type": "markdown",
   "metadata": {},
   "source": [
    "`Disclaimer`: This is just for the purpose of knowledge and my own learning, and not any advice to create any kind of trading strategy based on the post. Do you own analysis and invest in markets. However, this is just for my own learning purpose, so need not to worry. For learning purpose, I can test for any weird possibilities, even if doesn't make any sense in the practical world.\n",
    "\n",
    "Do let me know, if you want more details on the spread and mean reversion pair trading strategy."
   ]
  },
  {
   "cell_type": "markdown",
   "metadata": {},
   "source": [
    "<hr>"
   ]
  }
 ],
 "metadata": {
  "kernelspec": {
   "display_name": "Python 3",
   "language": "python",
   "name": "python3"
  },
  "language_info": {
   "codemirror_mode": {
    "name": "ipython",
    "version": 3
   },
   "file_extension": ".py",
   "mimetype": "text/x-python",
   "name": "python",
   "nbconvert_exporter": "python",
   "pygments_lexer": "ipython3",
   "version": "3.12.7"
  }
 },
 "nbformat": 4,
 "nbformat_minor": 2
}
